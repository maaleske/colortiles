{
 "cells": [
  {
   "cell_type": "code",
   "execution_count": 1,
   "metadata": {},
   "outputs": [],
   "source": [
    "import xarray as xr\n",
    "import pandas as pd\n",
    "import numpy as np\n",
    "from model import fit_dataarray"
   ]
  },
  {
   "cell_type": "code",
   "execution_count": 2,
   "metadata": {},
   "outputs": [],
   "source": [
    "malkin = pd.read_excel('data/malkin set with test errors and assigned targets 10_18_18 and color calculations.xlsx',\n",
    "                       sheet_name='target reflectance', usecols='A:M')\n",
    "malkin = malkin.to_xarray()\n",
    "malkin = malkin.set_coords('wavelength').to_array('tile')"
   ]
  },
  {
   "cell_type": "code",
   "execution_count": 3,
   "metadata": {},
   "outputs": [
    {
     "data": {
      "text/plain": [
       "<xarray.DataArray (tile: 12, index: 81)>\n",
       "array([[0.532 , 0.5444, 0.5548, ..., 0.604 , 0.6029, 0.6019],\n",
       "       [0.1816, 0.1893, 0.1961, ..., 0.2264, 0.2252, 0.224 ],\n",
       "       [0.1761, 0.1832, 0.191 , ..., 0.252 , 0.2511, 0.2501],\n",
       "       ...,\n",
       "       [0.0484, 0.0517, 0.0543, ..., 0.1742, 0.1728, 0.1713],\n",
       "       [0.1574, 0.1806, 0.2039, ..., 0.1266, 0.1253, 0.1241],\n",
       "       [0.0808, 0.0903, 0.0999, ..., 0.5274, 0.5298, 0.5296]])\n",
       "Coordinates:\n",
       "  * index       (index) int64 0 1 2 3 4 5 6 7 8 9 ... 72 73 74 75 76 77 78 79 80\n",
       "    wavelength  (index) int64 380 385 390 395 400 405 ... 760 765 770 775 780\n",
       "  * tile        (tile) <U16 'Pale gray' 'Mid gray' ... 'Cyan' 'Deep Blue'"
      ]
     },
     "execution_count": 3,
     "metadata": {},
     "output_type": "execute_result"
    }
   ],
   "source": [
    "malkin"
   ]
  },
  {
   "cell_type": "code",
   "execution_count": 4,
   "metadata": {},
   "outputs": [],
   "source": [
    "test = pd.read_excel('data/malkin set with test errors and assigned targets 10_18_18 and color calculations.xlsx',\n",
    "                    sheet_name='test reflectance', usecols='A:M')\n",
    "test = test.to_xarray()\n",
    "test = test.set_coords('wavelength').to_array('tile')"
   ]
  },
  {
   "cell_type": "code",
   "execution_count": 5,
   "metadata": {},
   "outputs": [
    {
     "data": {
      "text/plain": [
       "<xarray.DataArray (tile: 12, index: 81)>\n",
       "array([[0.532202, 0.544251, 0.554298, ..., 0.601697, 0.60066 , 0.599691],\n",
       "       [0.185101, 0.192785, 0.199532, ..., 0.229418, 0.228219, 0.22702 ],\n",
       "       [0.179737, 0.186879, 0.194712, ..., 0.254986, 0.254081, 0.25308 ],\n",
       "       ...,\n",
       "       [0.050691, 0.054004, 0.056662, ..., 0.177161, 0.175733, 0.174225],\n",
       "       [0.16203 , 0.185307, 0.20851 , ..., 0.129347, 0.128054, 0.12685 ],\n",
       "       [0.08396 , 0.09355 , 0.103159, ..., 0.526929, 0.529188, 0.528901]])\n",
       "Coordinates:\n",
       "  * index       (index) int64 0 1 2 3 4 5 6 7 8 9 ... 72 73 74 75 76 77 78 79 80\n",
       "    wavelength  (index) int64 380 385 390 395 400 405 ... 760 765 770 775 780\n",
       "  * tile        (tile) <U16 'Pale gray' 'Mid gray' ... 'Cyan' 'Deep Blue'"
      ]
     },
     "execution_count": 5,
     "metadata": {},
     "output_type": "execute_result"
    }
   ],
   "source": [
    "test"
   ]
  },
  {
   "cell_type": "code",
   "execution_count": 6,
   "metadata": {},
   "outputs": [
    {
     "name": "stdout",
     "output_type": "stream",
     "text": [
      "(12, 5)\n",
      "(12,)\n",
      "(12, 5)\n",
      "(12,)\n",
      "(12, 5)\n",
      "(12,)\n",
      "(12, 5)\n",
      "(12,)\n",
      "(12, 5)\n",
      "(12,)\n",
      "(12, 5)\n",
      "(12,)\n",
      "(12, 5)\n",
      "(12,)\n",
      "(12, 5)\n",
      "(12,)\n",
      "(12, 5)\n",
      "(12,)\n",
      "(12, 5)\n",
      "(12,)\n",
      "(12, 5)\n",
      "(12,)\n",
      "(12, 5)\n",
      "(12,)\n",
      "(12, 5)\n",
      "(12,)\n",
      "(12, 5)\n",
      "(12,)\n",
      "(12, 5)\n",
      "(12,)\n",
      "(12, 5)\n",
      "(12,)\n",
      "(12, 5)\n",
      "(12,)\n",
      "(12, 5)\n",
      "(12,)\n",
      "(12, 5)\n",
      "(12,)\n",
      "(12, 5)\n",
      "(12,)\n",
      "(12, 5)\n",
      "(12,)\n",
      "(12, 5)\n",
      "(12,)\n",
      "(12, 5)\n",
      "(12,)\n",
      "(12, 5)\n",
      "(12,)\n",
      "(12, 5)\n",
      "(12,)\n",
      "(12, 5)\n",
      "(12,)\n",
      "(12, 5)\n",
      "(12,)\n",
      "(12, 5)\n",
      "(12,)\n",
      "(12, 5)\n",
      "(12,)\n",
      "(12, 5)\n",
      "(12,)\n",
      "(12, 5)\n",
      "(12,)\n",
      "(12, 5)\n",
      "(12,)\n",
      "(12, 5)\n",
      "(12,)\n",
      "(12, 5)\n",
      "(12,)\n",
      "(12, 5)\n",
      "(12,)\n",
      "(12, 5)\n",
      "(12,)\n",
      "(12, 5)\n",
      "(12,)\n",
      "(12, 5)\n",
      "(12,)\n",
      "(12, 5)\n",
      "(12,)\n",
      "(12, 5)\n",
      "(12,)\n",
      "(12, 5)\n",
      "(12,)\n",
      "(12, 5)\n",
      "(12,)\n",
      "(12, 5)\n",
      "(12,)\n",
      "(12, 5)\n",
      "(12,)\n",
      "(12, 5)\n",
      "(12,)\n",
      "(12, 5)\n",
      "(12,)\n",
      "(12, 5)\n",
      "(12,)\n",
      "(12, 5)\n",
      "(12,)\n",
      "(12, 5)\n",
      "(12,)\n",
      "(12, 5)\n",
      "(12,)\n",
      "(12, 5)\n",
      "(12,)\n",
      "(12, 5)\n",
      "(12,)\n",
      "(12, 5)\n",
      "(12,)\n",
      "(12, 5)\n",
      "(12,)\n",
      "(12, 5)\n",
      "(12,)\n",
      "(12, 5)\n",
      "(12,)\n",
      "(12, 5)\n",
      "(12,)\n",
      "(12, 5)\n",
      "(12,)\n",
      "(12, 5)\n",
      "(12,)\n",
      "(12, 5)\n",
      "(12,)\n",
      "(12, 5)\n",
      "(12,)\n",
      "(12, 5)\n",
      "(12,)\n",
      "(12, 5)\n",
      "(12,)\n",
      "(12, 5)\n",
      "(12,)\n",
      "(12, 5)\n",
      "(12,)\n",
      "(12, 5)\n",
      "(12,)\n",
      "(12, 5)\n",
      "(12,)\n",
      "(12, 5)\n",
      "(12,)\n",
      "(12, 5)\n",
      "(12,)\n",
      "(12, 5)\n",
      "(12,)\n",
      "(12, 5)\n",
      "(12,)\n",
      "(12, 5)\n",
      "(12,)\n",
      "(12, 5)\n",
      "(12,)\n",
      "(12, 5)\n",
      "(12,)\n",
      "(12, 5)\n",
      "(12,)\n",
      "(12, 5)\n",
      "(12,)\n",
      "(12, 5)\n",
      "(12,)\n",
      "(12, 5)\n",
      "(12,)\n",
      "(12, 5)\n",
      "(12,)\n",
      "(12, 5)\n",
      "(12,)\n",
      "(12, 5)\n",
      "(12,)\n"
     ]
    }
   ],
   "source": [
    "res = fit_dataarray(test, malkin)"
   ]
  },
  {
   "cell_type": "code",
   "execution_count": 9,
   "metadata": {},
   "outputs": [
    {
     "data": {
      "text/plain": [
       "<xarray.DataArray (wavelength: 81, dim_0: 5)>\n",
       "array([[-1.470195e-03,  3.487942e+00, -1.550610e+00,  1.199819e+00,\n",
       "        -3.503066e-02],\n",
       "       [-1.443926e-03,  3.574274e+00, -1.821670e-01, -1.821670e-01,\n",
       "        -3.589408e-02],\n",
       "       [-1.445785e-03,  3.556511e+00, -1.723713e-01, -1.723713e-01,\n",
       "        -3.571655e-02],\n",
       "       ...,\n",
       "       [-1.415732e-03,  3.587746e+00, -7.339258e-02, -7.339258e-02,\n",
       "        -3.603199e-02],\n",
       "       [-1.427025e-03,  3.609818e+00, -1.453461e-01, -1.453461e-01,\n",
       "        -3.625403e-02],\n",
       "       [-1.289793e-03,  3.704064e+00,  9.027937e-01, -1.263267e+00,\n",
       "        -3.720615e-02]])\n",
       "Coordinates:\n",
       "  * wavelength  (wavelength) int64 380 385 390 395 400 ... 760 765 770 775 780\n",
       "Dimensions without coordinates: dim_0"
      ]
     },
     "execution_count": 9,
     "metadata": {},
     "output_type": "execute_result"
    }
   ],
   "source": [
    "res"
   ]
  },
  {
   "cell_type": "code",
   "execution_count": null,
   "metadata": {},
   "outputs": [],
   "source": []
  }
 ],
 "metadata": {
  "kernelspec": {
   "display_name": "Python 3",
   "language": "python",
   "name": "python3"
  },
  "language_info": {
   "codemirror_mode": {
    "name": "ipython",
    "version": 3
   },
   "file_extension": ".py",
   "mimetype": "text/x-python",
   "name": "python",
   "nbconvert_exporter": "python",
   "pygments_lexer": "ipython3",
   "version": "3.6.6"
  }
 },
 "nbformat": 4,
 "nbformat_minor": 2
}
